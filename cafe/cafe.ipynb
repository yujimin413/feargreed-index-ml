{
 "cells": [
  {
   "cell_type": "code",
   "execution_count": 6,
   "metadata": {},
   "outputs": [],
   "source": [
    "import time\n",
    "\n",
    "from selenium import webdriver\n",
    "from selenium.webdriver.chrome.service import Service as ChromeService\n",
    "from selenium.webdriver.chrome.options import Options\n",
    "from webdriver_manager.chrome import ChromeDriverManager\n",
    "from selenium.webdriver.common.by import By\n",
    "from selenium.webdriver.common.keys import Keys\n",
    "\n",
    "from tqdm import tqdm\n",
    "\n",
    "from collections import deque\n",
    "\n",
    "import pyperclip\n",
    "import json\n",
    "import pickle\n",
    "\n",
    "from dotenv import load_dotenv\n",
    "import os"
   ]
  },
  {
   "cell_type": "code",
   "execution_count": 8,
   "metadata": {},
   "outputs": [
    {
     "data": {
      "text/plain": [
       "'yujiminn'"
      ]
     },
     "execution_count": 8,
     "metadata": {},
     "output_type": "execute_result"
    }
   ],
   "source": [
    "load_dotenv()\n",
    "\n",
    "NAVER_ID = os.environ.get('NAVER_ID')\n",
    "NAVER_PW = os.environ.get('NAVER_PW')"
   ]
  },
  {
   "cell_type": "code",
   "execution_count": 9,
   "metadata": {},
   "outputs": [],
   "source": [
    "op = webdriver.ChromeOptions()\n",
    "chrome_service = ChromeService(ChromeDriverManager().install())\n",
    "driver = webdriver.Chrome(service = chrome_service, options=op)"
   ]
  },
  {
   "cell_type": "code",
   "execution_count": 15,
   "metadata": {},
   "outputs": [],
   "source": [
    "my_id = \"네이버 아이디\"\n",
    "my_pw = \"네이버 패스워드\"\n",
    "\n",
    "driver.get(\"https://nid.naver.com/nidlogin.login\")\n",
    "\n",
    "try: \n",
    "    driver.find_element(By.CSS_SELECTOR,'#id') #예외처리에 필요 이 구문이 없으면 아이디가 클립보드에 계속 복사됨\n",
    "    time.sleep(3)\n",
    "    \n",
    "    pyperclip.copy(my_id)\n",
    "    driver.find_element(By.CSS_SELECTOR,'#id').send_keys(Keys.CONTROL+'v')\n",
    "    time.sleep(1)\n",
    "    \n",
    "    pyperclip.copy(my_pw)\n",
    "    secure='blank'\n",
    "    driver.find_element(By.CSS_SELECTOR,'#pw').send_keys(Keys.CONTROL + 'v')\n",
    "    pyperclip.copy(secure)  #비밀번호 보안을 위해 클립보드에 blank 저장\n",
    "    \n",
    "    driver.find_element(By.XPATH,'//*[@id=\"log.login\"]').click()\n",
    "except: \n",
    "    print(\"no such element\")          #예외처리"
   ]
  },
  {
   "cell_type": "code",
   "execution_count": null,
   "metadata": {},
   "outputs": [],
   "source": []
  }
 ],
 "metadata": {
  "kernelspec": {
   "display_name": "Python 3",
   "language": "python",
   "name": "python3"
  },
  "language_info": {
   "codemirror_mode": {
    "name": "ipython",
    "version": 3
   },
   "file_extension": ".py",
   "mimetype": "text/x-python",
   "name": "python",
   "nbconvert_exporter": "python",
   "pygments_lexer": "ipython3",
   "version": "3.13.1"
  }
 },
 "nbformat": 4,
 "nbformat_minor": 2
}
