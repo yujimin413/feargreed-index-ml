{
 "cells": [
  {
   "cell_type": "code",
   "execution_count": 12,
   "metadata": {},
   "outputs": [],
   "source": [
    "import pandas as pd\n",
    "import numpy as np\n",
    "import math\n",
    "\n",
    "from bs4 import BeautifulSoup\n",
    "from selenium import webdriver\n",
    "from selenium.webdriver import ActionChains as AC\n",
    "from selenium.webdriver.common.keys import Keys\n",
    "from tqdm import tqdm\n",
    "from tqdm import tqdm_notebook\n",
    "import re\n",
    "from time import sleep\n",
    "import time\n",
    "from datetime import datetime, date"
   ]
  },
  {
   "cell_type": "code",
   "execution_count": 18,
   "metadata": {},
   "outputs": [],
   "source": [
    "# 크롬창 띄우기\n",
    "from selenium import webdriver\n",
    "driver = webdriver.Chrome()  # 크롬 드라이버 로드. selenium 사용하면 크롬드라이버 다운 안해도 됨\n",
    "\n",
    "driver.get(\"https://x.com/search?q=%EB%B6%80%EB%8F%99%EC%82%B0&src=typed_query\")  # 웹 페이지로 이동"
   ]
  },
  {
   "cell_type": "code",
   "execution_count": 17,
   "metadata": {},
   "outputs": [
    {
     "ename": "NoSuchWindowException",
     "evalue": "Message: no such window: target window already closed\nfrom unknown error: web view not found\n  (Session info: chrome=131.0.6778.266)\nStacktrace:\n0   chromedriver                        0x00000001031fa138 cxxbridge1$str$ptr + 3653888\n1   chromedriver                        0x00000001031f2988 cxxbridge1$str$ptr + 3623248\n2   chromedriver                        0x0000000102c58968 cxxbridge1$string$len + 89228\n3   chromedriver                        0x0000000102c33e44 core::str::slice_error_fail::ha0e52dbcb60e6bae + 3780\n4   chromedriver                        0x0000000102cc2c84 cxxbridge1$string$len + 524200\n5   chromedriver                        0x0000000102cd5b60 cxxbridge1$string$len + 601732\n6   chromedriver                        0x0000000102c91564 cxxbridge1$string$len + 321672\n7   chromedriver                        0x0000000102c921b4 cxxbridge1$string$len + 324824\n8   chromedriver                        0x00000001031c4fc0 cxxbridge1$str$ptr + 3436424\n9   chromedriver                        0x00000001031c82dc cxxbridge1$str$ptr + 3449508\n10  chromedriver                        0x00000001031abe60 cxxbridge1$str$ptr + 3333672\n11  chromedriver                        0x00000001031c8b9c cxxbridge1$str$ptr + 3451748\n12  chromedriver                        0x000000010319d678 cxxbridge1$str$ptr + 3274304\n13  chromedriver                        0x00000001031e32b4 cxxbridge1$str$ptr + 3560060\n14  chromedriver                        0x00000001031e3430 cxxbridge1$str$ptr + 3560440\n15  chromedriver                        0x00000001031f25fc cxxbridge1$str$ptr + 3622340\n16  libsystem_pthread.dylib             0x000000018ab802e4 _pthread_start + 136\n17  libsystem_pthread.dylib             0x000000018ab7b0fc thread_start + 8\n",
     "output_type": "error",
     "traceback": [
      "\u001b[0;31m---------------------------------------------------------------------------\u001b[0m",
      "\u001b[0;31mNoSuchWindowException\u001b[0m                     Traceback (most recent call last)",
      "Cell \u001b[0;32mIn[17], line 9\u001b[0m\n\u001b[1;32m      7\u001b[0m i\u001b[38;5;241m=\u001b[39m\u001b[38;5;241m0\u001b[39m\n\u001b[1;32m      8\u001b[0m \u001b[38;5;28;01mwhile\u001b[39;00m i \u001b[38;5;241m<\u001b[39m \u001b[38;5;241m15\u001b[39m:\n\u001b[0;32m----> 9\u001b[0m     \u001b[43mscroll_down\u001b[49m\u001b[43m(\u001b[49m\u001b[43mdriver\u001b[49m\u001b[43m)\u001b[49m      \u001b[38;5;66;03m# 스크롤 다운\u001b[39;00m\n\u001b[1;32m     10\u001b[0m     i \u001b[38;5;241m+\u001b[39m\u001b[38;5;241m=\u001b[39m \u001b[38;5;241m1\u001b[39m \n",
      "Cell \u001b[0;32mIn[17], line 4\u001b[0m, in \u001b[0;36mscroll_down\u001b[0;34m(driver)\u001b[0m\n\u001b[1;32m      3\u001b[0m \u001b[38;5;28;01mdef\u001b[39;00m\u001b[38;5;250m \u001b[39m\u001b[38;5;21mscroll_down\u001b[39m(driver):\n\u001b[0;32m----> 4\u001b[0m   \u001b[43mdriver\u001b[49m\u001b[38;5;241;43m.\u001b[39;49m\u001b[43mexecute_script\u001b[49m\u001b[43m(\u001b[49m\u001b[38;5;124;43m\"\u001b[39;49m\u001b[38;5;124;43mwindow.scrollTo(0,9999999999999)\u001b[39;49m\u001b[38;5;124;43m\"\u001b[39;49m\u001b[43m)\u001b[49m\n",
      "File \u001b[0;32m/Library/Frameworks/Python.framework/Versions/3.13/lib/python3.13/site-packages/selenium/webdriver/remote/webdriver.py:444\u001b[0m, in \u001b[0;36mWebDriver.execute_script\u001b[0;34m(self, script, *args)\u001b[0m\n\u001b[1;32m    441\u001b[0m converted_args \u001b[38;5;241m=\u001b[39m \u001b[38;5;28mlist\u001b[39m(args)\n\u001b[1;32m    442\u001b[0m command \u001b[38;5;241m=\u001b[39m Command\u001b[38;5;241m.\u001b[39mW3C_EXECUTE_SCRIPT\n\u001b[0;32m--> 444\u001b[0m \u001b[38;5;28;01mreturn\u001b[39;00m \u001b[38;5;28;43mself\u001b[39;49m\u001b[38;5;241;43m.\u001b[39;49m\u001b[43mexecute\u001b[49m\u001b[43m(\u001b[49m\u001b[43mcommand\u001b[49m\u001b[43m,\u001b[49m\u001b[43m \u001b[49m\u001b[43m{\u001b[49m\u001b[38;5;124;43m\"\u001b[39;49m\u001b[38;5;124;43mscript\u001b[39;49m\u001b[38;5;124;43m\"\u001b[39;49m\u001b[43m:\u001b[49m\u001b[43m \u001b[49m\u001b[43mscript\u001b[49m\u001b[43m,\u001b[49m\u001b[43m \u001b[49m\u001b[38;5;124;43m\"\u001b[39;49m\u001b[38;5;124;43margs\u001b[39;49m\u001b[38;5;124;43m\"\u001b[39;49m\u001b[43m:\u001b[49m\u001b[43m \u001b[49m\u001b[43mconverted_args\u001b[49m\u001b[43m}\u001b[49m\u001b[43m)\u001b[49m[\u001b[38;5;124m\"\u001b[39m\u001b[38;5;124mvalue\u001b[39m\u001b[38;5;124m\"\u001b[39m]\n",
      "File \u001b[0;32m/Library/Frameworks/Python.framework/Versions/3.13/lib/python3.13/site-packages/selenium/webdriver/remote/webdriver.py:384\u001b[0m, in \u001b[0;36mWebDriver.execute\u001b[0;34m(self, driver_command, params)\u001b[0m\n\u001b[1;32m    382\u001b[0m response \u001b[38;5;241m=\u001b[39m \u001b[38;5;28mself\u001b[39m\u001b[38;5;241m.\u001b[39mcommand_executor\u001b[38;5;241m.\u001b[39mexecute(driver_command, params)\n\u001b[1;32m    383\u001b[0m \u001b[38;5;28;01mif\u001b[39;00m response:\n\u001b[0;32m--> 384\u001b[0m     \u001b[38;5;28;43mself\u001b[39;49m\u001b[38;5;241;43m.\u001b[39;49m\u001b[43merror_handler\u001b[49m\u001b[38;5;241;43m.\u001b[39;49m\u001b[43mcheck_response\u001b[49m\u001b[43m(\u001b[49m\u001b[43mresponse\u001b[49m\u001b[43m)\u001b[49m\n\u001b[1;32m    385\u001b[0m     response[\u001b[38;5;124m\"\u001b[39m\u001b[38;5;124mvalue\u001b[39m\u001b[38;5;124m\"\u001b[39m] \u001b[38;5;241m=\u001b[39m \u001b[38;5;28mself\u001b[39m\u001b[38;5;241m.\u001b[39m_unwrap_value(response\u001b[38;5;241m.\u001b[39mget(\u001b[38;5;124m\"\u001b[39m\u001b[38;5;124mvalue\u001b[39m\u001b[38;5;124m\"\u001b[39m, \u001b[38;5;28;01mNone\u001b[39;00m))\n\u001b[1;32m    386\u001b[0m     \u001b[38;5;28;01mreturn\u001b[39;00m response\n",
      "File \u001b[0;32m/Library/Frameworks/Python.framework/Versions/3.13/lib/python3.13/site-packages/selenium/webdriver/remote/errorhandler.py:232\u001b[0m, in \u001b[0;36mErrorHandler.check_response\u001b[0;34m(self, response)\u001b[0m\n\u001b[1;32m    230\u001b[0m         alert_text \u001b[38;5;241m=\u001b[39m value[\u001b[38;5;124m\"\u001b[39m\u001b[38;5;124malert\u001b[39m\u001b[38;5;124m\"\u001b[39m]\u001b[38;5;241m.\u001b[39mget(\u001b[38;5;124m\"\u001b[39m\u001b[38;5;124mtext\u001b[39m\u001b[38;5;124m\"\u001b[39m)\n\u001b[1;32m    231\u001b[0m     \u001b[38;5;28;01mraise\u001b[39;00m exception_class(message, screen, stacktrace, alert_text)  \u001b[38;5;66;03m# type: ignore[call-arg]  # mypy is not smart enough here\u001b[39;00m\n\u001b[0;32m--> 232\u001b[0m \u001b[38;5;28;01mraise\u001b[39;00m exception_class(message, screen, stacktrace)\n",
      "\u001b[0;31mNoSuchWindowException\u001b[0m: Message: no such window: target window already closed\nfrom unknown error: web view not found\n  (Session info: chrome=131.0.6778.266)\nStacktrace:\n0   chromedriver                        0x00000001031fa138 cxxbridge1$str$ptr + 3653888\n1   chromedriver                        0x00000001031f2988 cxxbridge1$str$ptr + 3623248\n2   chromedriver                        0x0000000102c58968 cxxbridge1$string$len + 89228\n3   chromedriver                        0x0000000102c33e44 core::str::slice_error_fail::ha0e52dbcb60e6bae + 3780\n4   chromedriver                        0x0000000102cc2c84 cxxbridge1$string$len + 524200\n5   chromedriver                        0x0000000102cd5b60 cxxbridge1$string$len + 601732\n6   chromedriver                        0x0000000102c91564 cxxbridge1$string$len + 321672\n7   chromedriver                        0x0000000102c921b4 cxxbridge1$string$len + 324824\n8   chromedriver                        0x00000001031c4fc0 cxxbridge1$str$ptr + 3436424\n9   chromedriver                        0x00000001031c82dc cxxbridge1$str$ptr + 3449508\n10  chromedriver                        0x00000001031abe60 cxxbridge1$str$ptr + 3333672\n11  chromedriver                        0x00000001031c8b9c cxxbridge1$str$ptr + 3451748\n12  chromedriver                        0x000000010319d678 cxxbridge1$str$ptr + 3274304\n13  chromedriver                        0x00000001031e32b4 cxxbridge1$str$ptr + 3560060\n14  chromedriver                        0x00000001031e3430 cxxbridge1$str$ptr + 3560440\n15  chromedriver                        0x00000001031f25fc cxxbridge1$str$ptr + 3622340\n16  libsystem_pthread.dylib             0x000000018ab802e4 _pthread_start + 136\n17  libsystem_pthread.dylib             0x000000018ab7b0fc thread_start + 8\n"
     ]
    }
   ],
   "source": [
    "# 스크롤 다운\n",
    "import time\n",
    "def scroll_down(driver):\n",
    "  driver.execute_script(\"window.scrollTo(0,9999999999999)\")   \n",
    "#   time.sleep(2)    \n",
    "\n",
    "i=0\n",
    "while i < 15:\n",
    "    scroll_down(driver)      # 스크롤 다운\n",
    "    i += 1 "
   ]
  },
  {
   "cell_type": "code",
   "execution_count": null,
   "metadata": {},
   "outputs": [],
   "source": [
    "fullname = []\n",
    "fullnames = driver.find_elements_by_css_selector(\".content .FullNameGroup\")         # fullname\n",
    "for i in fullnames:\n",
    "    name = i.text.replace('\\n','').strip()\n",
    "    fullname.append(name)\n",
    "print(fullname)"
   ]
  }
 ],
 "metadata": {
  "kernelspec": {
   "display_name": "Python 3",
   "language": "python",
   "name": "python3"
  },
  "language_info": {
   "codemirror_mode": {
    "name": "ipython",
    "version": 3
   },
   "file_extension": ".py",
   "mimetype": "text/x-python",
   "name": "python",
   "nbconvert_exporter": "python",
   "pygments_lexer": "ipython3",
   "version": "3.13.1"
  }
 },
 "nbformat": 4,
 "nbformat_minor": 2
}
